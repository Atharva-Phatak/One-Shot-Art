{
  "nbformat": 4,
  "nbformat_minor": 0,
  "metadata": {
    "colab": {
      "name": "Prepare_Dataset.ipynb",
      "provenance": [],
      "collapsed_sections": []
    },
    "kernelspec": {
      "name": "python3",
      "display_name": "Python 3"
    }
  },
  "cells": [
    {
      "cell_type": "code",
      "metadata": {
        "id": "MC71Zfv3f2fN",
        "colab_type": "code",
        "colab": {}
      },
      "source": [
        "import matplotlib.pyplot as plt\n",
        "import shutil\n",
        "from unidecode import unidecode\n",
        "import os\n",
        "import numpy as np\n",
        "import pandas as pd\n",
        "import shutil\n",
        "\n",
        "def check_RGB(path):\n",
        "\n",
        "    img = plt.imread(path)\n",
        "    if len(img.shape)==3:\n",
        "      \n",
        "        return True\n",
        "    else:\n",
        "        False"
      ],
      "execution_count": 0,
      "outputs": []
    },
    {
      "cell_type": "code",
      "metadata": {
        "id": "eK5AEhWZgbMl",
        "colab_type": "code",
        "colab": {}
      },
      "source": [
        "def split_data(path,idx,data_dir):\n",
        "    \n",
        "    if not os.path.exists(path):\n",
        "        os.mkdir(path)\n",
        "    \n",
        "    for name in idx:\n",
        "        if not os.path.exists(path+name):\n",
        "            os.mkdir(path+name)\n",
        "\n",
        "        files = [f  for f in os.listdir(data_dir+name) ]\n",
        "        rgb_files = [f for f in files if check_RGB(data_dir+name+'/'+f)]\n",
        "        files = np.random.choice(rgb_files, 20 ,replace = False)\n",
        "        for file_name in files:\n",
        "            d_name = file_name.split('.')[0]+'_c'+'.jpg'\n",
        "            src_path = data_dir + name +'/' + file_name\n",
        "            d_path = path + name + '/' + d_name\n",
        "            shutil.copyfile(src_path,d_path)\n",
        "            "
      ],
      "execution_count": 0,
      "outputs": []
    },
    {
      "cell_type": "code",
      "metadata": {
        "id": "oAagQXiZSENO",
        "colab_type": "code",
        "colab": {}
      },
      "source": [
        "#Now that we have our train_idx and test_idx,we will start preparing our train and  test data along and we will keep 20 images per class also make a csv for the labels\n",
        "data_dir ='/content/drive/My Drive/Few Shot Painting Classification/images/images/'\n",
        "names = [name for name in os.listdir(data_dir) if name != '.ipynb_checkpoints']\n",
        "train_idx = np.random.choice(names ,40,replace = False)\n",
        "test_idx = [name for name in names if name not in train_idx]\n",
        "\n",
        "train_path = '/content/drive/My Drive/Few Shot Painting Classification/Train/'\n",
        "split_data(train_path , train_idx , data_dir)\n",
        "\n",
        "\n",
        "\n"
      ],
      "execution_count": 0,
      "outputs": []
    },
    {
      "cell_type": "code",
      "metadata": {
        "id": "b1ihODZuaiiT",
        "colab_type": "code",
        "colab": {}
      },
      "source": [
        "test_path = '/content/drive/My Drive/Few Shot Painting Classification/Test/'\n",
        "split_data(test_path , test_idx , data_dir)\n"
      ],
      "execution_count": 0,
      "outputs": []
    },
    {
      "cell_type": "code",
      "metadata": {
        "id": "fucx_xaihcdw",
        "colab_type": "code",
        "colab": {}
      },
      "source": [
        ""
      ],
      "execution_count": 0,
      "outputs": []
    }
  ]
}